{
 "cells": [
  {
   "cell_type": "markdown",
   "id": "4e821ed9",
   "metadata": {},
   "source": [
    "Task : design a ML system provided bank transaction data"
   ]
  },
  {
   "cell_type": "code",
   "execution_count": 1,
   "id": "484218a3",
   "metadata": {},
   "outputs": [],
   "source": [
    "import pandas as pd\n",
    "from sklearn.model_selection import train_test_split\n",
    "from sklearn.preprocessing import StandardScaler, LabelEncoder\n",
    "from sklearn.preprocessing import LabelEncoder\n",
    "from sklearn.ensemble import RandomForestClassifier"
   ]
  },
  {
   "cell_type": "markdown",
   "id": "db95b8c5",
   "metadata": {},
   "source": [
    "## Load data and do basic analysis"
   ]
  },
  {
   "cell_type": "code",
   "execution_count": 2,
   "id": "8e449788",
   "metadata": {
    "scrolled": false
   },
   "outputs": [
    {
     "data": {
      "text/html": [
       "<div>\n",
       "<style scoped>\n",
       "    .dataframe tbody tr th:only-of-type {\n",
       "        vertical-align: middle;\n",
       "    }\n",
       "\n",
       "    .dataframe tbody tr th {\n",
       "        vertical-align: top;\n",
       "    }\n",
       "\n",
       "    .dataframe thead th {\n",
       "        text-align: right;\n",
       "    }\n",
       "</style>\n",
       "<table border=\"1\" class=\"dataframe\">\n",
       "  <thead>\n",
       "    <tr style=\"text-align: right;\">\n",
       "      <th></th>\n",
       "      <th>typeofaction</th>\n",
       "      <th>sourceid</th>\n",
       "      <th>destinationid</th>\n",
       "      <th>amountofmoney</th>\n",
       "      <th>date</th>\n",
       "      <th>isfraud</th>\n",
       "      <th>typeoffraud</th>\n",
       "    </tr>\n",
       "  </thead>\n",
       "  <tbody>\n",
       "    <tr>\n",
       "      <th>0</th>\n",
       "      <td>cash-in</td>\n",
       "      <td>30105</td>\n",
       "      <td>28942</td>\n",
       "      <td>494528</td>\n",
       "      <td>2019-07-19 14:40:00</td>\n",
       "      <td>1</td>\n",
       "      <td>type1</td>\n",
       "    </tr>\n",
       "    <tr>\n",
       "      <th>1</th>\n",
       "      <td>cash-in</td>\n",
       "      <td>30105</td>\n",
       "      <td>8692</td>\n",
       "      <td>494528</td>\n",
       "      <td>2019-05-17 14:57:00</td>\n",
       "      <td>1</td>\n",
       "      <td>type1</td>\n",
       "    </tr>\n",
       "    <tr>\n",
       "      <th>2</th>\n",
       "      <td>cash-in</td>\n",
       "      <td>30105</td>\n",
       "      <td>60094</td>\n",
       "      <td>494528</td>\n",
       "      <td>2019-07-20 13:20:00</td>\n",
       "      <td>1</td>\n",
       "      <td>type1</td>\n",
       "    </tr>\n",
       "    <tr>\n",
       "      <th>3</th>\n",
       "      <td>cash-in</td>\n",
       "      <td>30105</td>\n",
       "      <td>20575</td>\n",
       "      <td>494528</td>\n",
       "      <td>2019-07-03 14:15:00</td>\n",
       "      <td>1</td>\n",
       "      <td>type1</td>\n",
       "    </tr>\n",
       "    <tr>\n",
       "      <th>4</th>\n",
       "      <td>cash-in</td>\n",
       "      <td>30105</td>\n",
       "      <td>45938</td>\n",
       "      <td>494528</td>\n",
       "      <td>2019-05-26 10:40:00</td>\n",
       "      <td>1</td>\n",
       "      <td>type1</td>\n",
       "    </tr>\n",
       "    <tr>\n",
       "      <th>...</th>\n",
       "      <td>...</td>\n",
       "      <td>...</td>\n",
       "      <td>...</td>\n",
       "      <td>...</td>\n",
       "      <td>...</td>\n",
       "      <td>...</td>\n",
       "      <td>...</td>\n",
       "    </tr>\n",
       "    <tr>\n",
       "      <th>2335</th>\n",
       "      <td>transfer</td>\n",
       "      <td>14945</td>\n",
       "      <td>43793</td>\n",
       "      <td>106907</td>\n",
       "      <td>2019-03-29 14:53:00</td>\n",
       "      <td>0</td>\n",
       "      <td>none</td>\n",
       "    </tr>\n",
       "    <tr>\n",
       "      <th>2336</th>\n",
       "      <td>transfer</td>\n",
       "      <td>9532</td>\n",
       "      <td>43793</td>\n",
       "      <td>106907</td>\n",
       "      <td>2019-04-13 13:19:00</td>\n",
       "      <td>0</td>\n",
       "      <td>none</td>\n",
       "    </tr>\n",
       "    <tr>\n",
       "      <th>2337</th>\n",
       "      <td>transfer</td>\n",
       "      <td>27332</td>\n",
       "      <td>43793</td>\n",
       "      <td>106907</td>\n",
       "      <td>2019-05-10 09:34:00</td>\n",
       "      <td>0</td>\n",
       "      <td>none</td>\n",
       "    </tr>\n",
       "    <tr>\n",
       "      <th>2338</th>\n",
       "      <td>transfer</td>\n",
       "      <td>32685</td>\n",
       "      <td>43793</td>\n",
       "      <td>106907</td>\n",
       "      <td>2019-07-08 12:20:00</td>\n",
       "      <td>0</td>\n",
       "      <td>none</td>\n",
       "    </tr>\n",
       "    <tr>\n",
       "      <th>2339</th>\n",
       "      <td>transfer</td>\n",
       "      <td>26390</td>\n",
       "      <td>43793</td>\n",
       "      <td>106907</td>\n",
       "      <td>2019-03-25 13:52:00</td>\n",
       "      <td>0</td>\n",
       "      <td>none</td>\n",
       "    </tr>\n",
       "  </tbody>\n",
       "</table>\n",
       "<p>2340 rows × 7 columns</p>\n",
       "</div>"
      ],
      "text/plain": [
       "     typeofaction  sourceid  destinationid  amountofmoney  \\\n",
       "0         cash-in     30105          28942         494528   \n",
       "1         cash-in     30105           8692         494528   \n",
       "2         cash-in     30105          60094         494528   \n",
       "3         cash-in     30105          20575         494528   \n",
       "4         cash-in     30105          45938         494528   \n",
       "...           ...       ...            ...            ...   \n",
       "2335     transfer     14945          43793         106907   \n",
       "2336     transfer      9532          43793         106907   \n",
       "2337     transfer     27332          43793         106907   \n",
       "2338     transfer     32685          43793         106907   \n",
       "2339     transfer     26390          43793         106907   \n",
       "\n",
       "                     date  isfraud typeoffraud  \n",
       "0     2019-07-19 14:40:00        1       type1  \n",
       "1     2019-05-17 14:57:00        1       type1  \n",
       "2     2019-07-20 13:20:00        1       type1  \n",
       "3     2019-07-03 14:15:00        1       type1  \n",
       "4     2019-05-26 10:40:00        1       type1  \n",
       "...                   ...      ...         ...  \n",
       "2335  2019-03-29 14:53:00        0        none  \n",
       "2336  2019-04-13 13:19:00        0        none  \n",
       "2337  2019-05-10 09:34:00        0        none  \n",
       "2338  2019-07-08 12:20:00        0        none  \n",
       "2339  2019-03-25 13:52:00        0        none  \n",
       "\n",
       "[2340 rows x 7 columns]"
      ]
     },
     "execution_count": 2,
     "metadata": {},
     "output_type": "execute_result"
    }
   ],
   "source": [
    "# Load your dataset\n",
    "data = pd.read_csv('C:\\\\Users\\\\user\\\\Desktop\\\\Machine learning pratice\\\\banktransacion fraud\\\\banktransaction.csv')\n",
    "data"
   ]
  },
  {
   "cell_type": "code",
   "execution_count": 3,
   "id": "fdf18d40",
   "metadata": {},
   "outputs": [
    {
     "name": "stdout",
     "output_type": "stream",
     "text": [
      "<class 'pandas.core.frame.DataFrame'>\n",
      "RangeIndex: 2340 entries, 0 to 2339\n",
      "Data columns (total 7 columns):\n",
      " #   Column         Non-Null Count  Dtype \n",
      "---  ------         --------------  ----- \n",
      " 0   typeofaction   2340 non-null   object\n",
      " 1   sourceid       2340 non-null   int64 \n",
      " 2   destinationid  2340 non-null   int64 \n",
      " 3   amountofmoney  2340 non-null   int64 \n",
      " 4   date           2340 non-null   object\n",
      " 5   isfraud        2340 non-null   int64 \n",
      " 6   typeoffraud    2340 non-null   object\n",
      "dtypes: int64(4), object(3)\n",
      "memory usage: 128.1+ KB\n"
     ]
    },
    {
     "data": {
      "text/html": [
       "<div>\n",
       "<style scoped>\n",
       "    .dataframe tbody tr th:only-of-type {\n",
       "        vertical-align: middle;\n",
       "    }\n",
       "\n",
       "    .dataframe tbody tr th {\n",
       "        vertical-align: top;\n",
       "    }\n",
       "\n",
       "    .dataframe thead th {\n",
       "        text-align: right;\n",
       "    }\n",
       "</style>\n",
       "<table border=\"1\" class=\"dataframe\">\n",
       "  <thead>\n",
       "    <tr style=\"text-align: right;\">\n",
       "      <th></th>\n",
       "      <th>sourceid</th>\n",
       "      <th>destinationid</th>\n",
       "      <th>amountofmoney</th>\n",
       "      <th>isfraud</th>\n",
       "    </tr>\n",
       "  </thead>\n",
       "  <tbody>\n",
       "    <tr>\n",
       "      <th>count</th>\n",
       "      <td>2340.000000</td>\n",
       "      <td>2340.000000</td>\n",
       "      <td>2.340000e+03</td>\n",
       "      <td>2340.000000</td>\n",
       "    </tr>\n",
       "    <tr>\n",
       "      <th>mean</th>\n",
       "      <td>49111.255128</td>\n",
       "      <td>52257.918803</td>\n",
       "      <td>2.508583e+06</td>\n",
       "      <td>0.597863</td>\n",
       "    </tr>\n",
       "    <tr>\n",
       "      <th>std</th>\n",
       "      <td>29614.440603</td>\n",
       "      <td>28988.847246</td>\n",
       "      <td>2.560434e+06</td>\n",
       "      <td>0.490434</td>\n",
       "    </tr>\n",
       "    <tr>\n",
       "      <th>min</th>\n",
       "      <td>61.000000</td>\n",
       "      <td>53.000000</td>\n",
       "      <td>1.333200e+04</td>\n",
       "      <td>0.000000</td>\n",
       "    </tr>\n",
       "    <tr>\n",
       "      <th>25%</th>\n",
       "      <td>24033.000000</td>\n",
       "      <td>28046.000000</td>\n",
       "      <td>3.359140e+05</td>\n",
       "      <td>0.000000</td>\n",
       "    </tr>\n",
       "    <tr>\n",
       "      <th>50%</th>\n",
       "      <td>46632.500000</td>\n",
       "      <td>52748.500000</td>\n",
       "      <td>1.162354e+06</td>\n",
       "      <td>1.000000</td>\n",
       "    </tr>\n",
       "    <tr>\n",
       "      <th>75%</th>\n",
       "      <td>75107.000000</td>\n",
       "      <td>78030.000000</td>\n",
       "      <td>4.686559e+06</td>\n",
       "      <td>1.000000</td>\n",
       "    </tr>\n",
       "    <tr>\n",
       "      <th>max</th>\n",
       "      <td>100000.000000</td>\n",
       "      <td>99950.000000</td>\n",
       "      <td>7.952497e+06</td>\n",
       "      <td>1.000000</td>\n",
       "    </tr>\n",
       "  </tbody>\n",
       "</table>\n",
       "</div>"
      ],
      "text/plain": [
       "            sourceid  destinationid  amountofmoney      isfraud\n",
       "count    2340.000000    2340.000000   2.340000e+03  2340.000000\n",
       "mean    49111.255128   52257.918803   2.508583e+06     0.597863\n",
       "std     29614.440603   28988.847246   2.560434e+06     0.490434\n",
       "min        61.000000      53.000000   1.333200e+04     0.000000\n",
       "25%     24033.000000   28046.000000   3.359140e+05     0.000000\n",
       "50%     46632.500000   52748.500000   1.162354e+06     1.000000\n",
       "75%     75107.000000   78030.000000   4.686559e+06     1.000000\n",
       "max    100000.000000   99950.000000   7.952497e+06     1.000000"
      ]
     },
     "execution_count": 3,
     "metadata": {},
     "output_type": "execute_result"
    }
   ],
   "source": [
    "# basic information about the data\n",
    "data.info()\n",
    "data.describe()"
   ]
  },
  {
   "cell_type": "markdown",
   "id": "571f0dbd",
   "metadata": {},
   "source": [
    "## Preprocessing"
   ]
  },
  {
   "cell_type": "code",
   "execution_count": 4,
   "id": "016676cc",
   "metadata": {},
   "outputs": [
    {
     "data": {
      "text/plain": [
       "typeofaction     object\n",
       "sourceid          int64\n",
       "destinationid     int64\n",
       "amountofmoney     int64\n",
       "isfraud           int64\n",
       "typeoffraud      object\n",
       "dtype: object"
      ]
     },
     "execution_count": 4,
     "metadata": {},
     "output_type": "execute_result"
    }
   ],
   "source": [
    "cols_to_drop = ['date']\n",
    "data.drop(columns=cols_to_drop, inplace=True)\n",
    "data.dtypes"
   ]
  },
  {
   "cell_type": "code",
   "execution_count": 5,
   "id": "9a5508ca",
   "metadata": {},
   "outputs": [],
   "source": [
    "X = data.drop('isfraud', axis=1)\n",
    "y = data['isfraud']"
   ]
  },
  {
   "cell_type": "code",
   "execution_count": null,
   "id": "ee17d4f3",
   "metadata": {},
   "outputs": [],
   "source": [
    "# Convert categorical features to numerical using Label Encoding\n",
    "# Create a LabelEncoder object\n",
    "label_encoder = LabelEncoder()"
   ]
  },
  {
   "cell_type": "code",
   "execution_count": null,
   "id": "af4cc3e0",
   "metadata": {},
   "outputs": [],
   "source": [
    "# Define the categories to be encoded\n",
    "categories = ['typeofaction','typeoffraud']"
   ]
  },
  {
   "cell_type": "code",
   "execution_count": 6,
   "id": "5f39a5b7",
   "metadata": {},
   "outputs": [
    {
     "data": {
      "text/html": [
       "<div>\n",
       "<style scoped>\n",
       "    .dataframe tbody tr th:only-of-type {\n",
       "        vertical-align: middle;\n",
       "    }\n",
       "\n",
       "    .dataframe tbody tr th {\n",
       "        vertical-align: top;\n",
       "    }\n",
       "\n",
       "    .dataframe thead th {\n",
       "        text-align: right;\n",
       "    }\n",
       "</style>\n",
       "<table border=\"1\" class=\"dataframe\">\n",
       "  <thead>\n",
       "    <tr style=\"text-align: right;\">\n",
       "      <th></th>\n",
       "      <th>typeofaction</th>\n",
       "      <th>typeoffraud</th>\n",
       "    </tr>\n",
       "  </thead>\n",
       "  <tbody>\n",
       "    <tr>\n",
       "      <th>0</th>\n",
       "      <td>0</td>\n",
       "      <td>1</td>\n",
       "    </tr>\n",
       "    <tr>\n",
       "      <th>1</th>\n",
       "      <td>0</td>\n",
       "      <td>1</td>\n",
       "    </tr>\n",
       "    <tr>\n",
       "      <th>2</th>\n",
       "      <td>0</td>\n",
       "      <td>1</td>\n",
       "    </tr>\n",
       "    <tr>\n",
       "      <th>3</th>\n",
       "      <td>0</td>\n",
       "      <td>1</td>\n",
       "    </tr>\n",
       "    <tr>\n",
       "      <th>4</th>\n",
       "      <td>0</td>\n",
       "      <td>1</td>\n",
       "    </tr>\n",
       "    <tr>\n",
       "      <th>...</th>\n",
       "      <td>...</td>\n",
       "      <td>...</td>\n",
       "    </tr>\n",
       "    <tr>\n",
       "      <th>2335</th>\n",
       "      <td>1</td>\n",
       "      <td>0</td>\n",
       "    </tr>\n",
       "    <tr>\n",
       "      <th>2336</th>\n",
       "      <td>1</td>\n",
       "      <td>0</td>\n",
       "    </tr>\n",
       "    <tr>\n",
       "      <th>2337</th>\n",
       "      <td>1</td>\n",
       "      <td>0</td>\n",
       "    </tr>\n",
       "    <tr>\n",
       "      <th>2338</th>\n",
       "      <td>1</td>\n",
       "      <td>0</td>\n",
       "    </tr>\n",
       "    <tr>\n",
       "      <th>2339</th>\n",
       "      <td>1</td>\n",
       "      <td>0</td>\n",
       "    </tr>\n",
       "  </tbody>\n",
       "</table>\n",
       "<p>2340 rows × 2 columns</p>\n",
       "</div>"
      ],
      "text/plain": [
       "      typeofaction  typeoffraud\n",
       "0                0            1\n",
       "1                0            1\n",
       "2                0            1\n",
       "3                0            1\n",
       "4                0            1\n",
       "...            ...          ...\n",
       "2335             1            0\n",
       "2336             1            0\n",
       "2337             1            0\n",
       "2338             1            0\n",
       "2339             1            0\n",
       "\n",
       "[2340 rows x 2 columns]"
      ]
     },
     "execution_count": 6,
     "metadata": {},
     "output_type": "execute_result"
    }
   ],
   "source": [
    "# Fit the encoder to the categories and transform them to numerical values\n",
    "X[categories] = X[categories].apply(label_encoder.fit_transform)\n",
    "X[categories]"
   ]
  },
  {
   "cell_type": "code",
   "execution_count": 7,
   "id": "aaf6a1dd",
   "metadata": {},
   "outputs": [],
   "source": [
    "# Split the data into training, validation, and testing sets\n",
    "X_train, X_temp, y_train, y_temp = train_test_split(X, y, test_size=0.3, random_state=42)\n",
    "X_val, X_test, y_val, y_test = train_test_split(X_temp, y_temp, test_size=0.5, random_state=42)"
   ]
  },
  {
   "cell_type": "code",
   "execution_count": 8,
   "id": "34bcb302",
   "metadata": {},
   "outputs": [],
   "source": [
    "# standardize numerical features\n",
    "scaler = StandardScaler()\n",
    "X_train = scaler.fit_transform(X_train)\n",
    "X_val = scaler.transform(X_val)\n",
    "X_test = scaler.transform(X_test)"
   ]
  },
  {
   "cell_type": "code",
   "execution_count": 9,
   "id": "b193f905",
   "metadata": {},
   "outputs": [],
   "source": [
    "# Plan a model\n",
    "model = RandomForestClassifier(random_state=42)"
   ]
  },
  {
   "cell_type": "code",
   "execution_count": null,
   "id": "7fac33b2",
   "metadata": {},
   "outputs": [],
   "source": [
    "# Build the model\n",
    "model.fit(X_train, y_train)"
   ]
  },
  {
   "cell_type": "code",
   "execution_count": null,
   "id": "aded3c2e",
   "metadata": {},
   "outputs": [],
   "source": [
    "# Evaluate results\n",
    "from sklearn.metrics import accuracy_score, classification_report"
   ]
  },
  {
   "cell_type": "code",
   "execution_count": null,
   "id": "93d13b0a",
   "metadata": {},
   "outputs": [],
   "source": [
    "# Make predictions on validation set\n",
    "y_pred = model.predict(X_val)"
   ]
  },
  {
   "cell_type": "code",
   "execution_count": null,
   "id": "d9831142",
   "metadata": {},
   "outputs": [],
   "source": [
    "# Evaluate accuracy\n",
    "accuracy = accuracy_score(y_val, y_pred)\n",
    "print(f'Validation Accuracy: {accuracy}')"
   ]
  },
  {
   "cell_type": "code",
   "execution_count": 10,
   "id": "d7ab75e4",
   "metadata": {},
   "outputs": [
    {
     "name": "stdout",
     "output_type": "stream",
     "text": [
      "Validation Accuracy: 1.0\n",
      "              precision    recall  f1-score   support\n",
      "\n",
      "           0       1.00      1.00      1.00       126\n",
      "           1       1.00      1.00      1.00       225\n",
      "\n",
      "    accuracy                           1.00       351\n",
      "   macro avg       1.00      1.00      1.00       351\n",
      "weighted avg       1.00      1.00      1.00       351\n",
      "\n"
     ]
    }
   ],
   "source": [
    "# Evaluate other metrics\n",
    "print(classification_report(y_val, y_pred))"
   ]
  },
  {
   "cell_type": "code",
   "execution_count": null,
   "id": "db6d73a0",
   "metadata": {},
   "outputs": [],
   "source": [
    "import pickle"
   ]
  },
  {
   "cell_type": "code",
   "execution_count": 11,
   "id": "eb35f0d7",
   "metadata": {},
   "outputs": [],
   "source": [
    "# Save the model to a file\n",
    "pickle.dump(model, open('internship.pkl','wb'))"
   ]
  },
  {
   "cell_type": "code",
   "execution_count": 12,
   "id": "2a0ce600",
   "metadata": {},
   "outputs": [],
   "source": [
    "# Load the saved model from the file\n",
    "model = pickle.load(open('internship.pkl','rb'))"
   ]
  },
  {
   "cell_type": "code",
   "execution_count": null,
   "id": "f4bc5b8a",
   "metadata": {},
   "outputs": [],
   "source": []
  }
 ],
 "metadata": {
  "jupytext": {
   "formats": "ipynb,py:nomarker"
  },
  "kernelspec": {
   "display_name": "Python 3 (ipykernel)",
   "language": "python",
   "name": "python3"
  },
  "language_info": {
   "codemirror_mode": {
    "name": "ipython",
    "version": 3
   },
   "file_extension": ".py",
   "mimetype": "text/x-python",
   "name": "python",
   "nbconvert_exporter": "python",
   "pygments_lexer": "ipython3",
   "version": "3.9.13"
  }
 },
 "nbformat": 4,
 "nbformat_minor": 5
}
