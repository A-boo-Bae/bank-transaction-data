{
 "cells": [
  {
   "cell_type": "markdown",
   "id": "793902e0",
   "metadata": {},
   "source": [
    "## project objective: Design a ML system that provides bank transaction data"
   ]
  },
  {
   "cell_type": "code",
   "execution_count": 1,
   "id": "7434149d",
   "metadata": {},
   "outputs": [],
   "source": [
    "#importing packages\n",
    "import pandas as pd\n",
    "import matplotlib.pyplot as plt\n",
    "import seaborn as sns\n",
    "from sklearn.preprocessing import StandardScaler\n",
    "from sklearn.neighbors import KNeighborsClassifier\n",
    "from sklearn.tree import DecisionTreeClassifier\n",
    "from sklearn.ensemble import RandomForestClassifier\n",
    "from sklearn.linear_model import LogisticRegression\n",
    "from sklearn.naive_bayes import GaussianNB\n",
    "from sklearn.neural_network import MLPClassifier\n",
    "from sklearn.metrics import precision_recall_fscore_support, matthews_corrcoef\n",
    "from sklearn.metrics import accuracy_score, confusion_matrix, classification_report\n"
   ]
  },
  {
   "cell_type": "code",
   "execution_count": 2,
   "id": "be6235e5",
   "metadata": {},
   "outputs": [
    {
     "data": {
      "text/html": [
       "<div>\n",
       "<style scoped>\n",
       "    .dataframe tbody tr th:only-of-type {\n",
       "        vertical-align: middle;\n",
       "    }\n",
       "\n",
       "    .dataframe tbody tr th {\n",
       "        vertical-align: top;\n",
       "    }\n",
       "\n",
       "    .dataframe thead th {\n",
       "        text-align: right;\n",
       "    }\n",
       "</style>\n",
       "<table border=\"1\" class=\"dataframe\">\n",
       "  <thead>\n",
       "    <tr style=\"text-align: right;\">\n",
       "      <th></th>\n",
       "      <th>typeofaction</th>\n",
       "      <th>sourceid</th>\n",
       "      <th>destinationid</th>\n",
       "      <th>amountofmoney</th>\n",
       "      <th>date</th>\n",
       "      <th>isfraud</th>\n",
       "      <th>typeoffraud</th>\n",
       "    </tr>\n",
       "  </thead>\n",
       "  <tbody>\n",
       "    <tr>\n",
       "      <th>0</th>\n",
       "      <td>cash-in</td>\n",
       "      <td>30105</td>\n",
       "      <td>28942</td>\n",
       "      <td>494528</td>\n",
       "      <td>2019-07-19 14:40:00</td>\n",
       "      <td>1</td>\n",
       "      <td>type1</td>\n",
       "    </tr>\n",
       "    <tr>\n",
       "      <th>1</th>\n",
       "      <td>cash-in</td>\n",
       "      <td>30105</td>\n",
       "      <td>8692</td>\n",
       "      <td>494528</td>\n",
       "      <td>2019-05-17 14:57:00</td>\n",
       "      <td>1</td>\n",
       "      <td>type1</td>\n",
       "    </tr>\n",
       "    <tr>\n",
       "      <th>2</th>\n",
       "      <td>cash-in</td>\n",
       "      <td>30105</td>\n",
       "      <td>60094</td>\n",
       "      <td>494528</td>\n",
       "      <td>2019-07-20 13:20:00</td>\n",
       "      <td>1</td>\n",
       "      <td>type1</td>\n",
       "    </tr>\n",
       "    <tr>\n",
       "      <th>3</th>\n",
       "      <td>cash-in</td>\n",
       "      <td>30105</td>\n",
       "      <td>20575</td>\n",
       "      <td>494528</td>\n",
       "      <td>2019-07-03 14:15:00</td>\n",
       "      <td>1</td>\n",
       "      <td>type1</td>\n",
       "    </tr>\n",
       "    <tr>\n",
       "      <th>4</th>\n",
       "      <td>cash-in</td>\n",
       "      <td>30105</td>\n",
       "      <td>45938</td>\n",
       "      <td>494528</td>\n",
       "      <td>2019-05-26 10:40:00</td>\n",
       "      <td>1</td>\n",
       "      <td>type1</td>\n",
       "    </tr>\n",
       "    <tr>\n",
       "      <th>...</th>\n",
       "      <td>...</td>\n",
       "      <td>...</td>\n",
       "      <td>...</td>\n",
       "      <td>...</td>\n",
       "      <td>...</td>\n",
       "      <td>...</td>\n",
       "      <td>...</td>\n",
       "    </tr>\n",
       "    <tr>\n",
       "      <th>2335</th>\n",
       "      <td>transfer</td>\n",
       "      <td>14945</td>\n",
       "      <td>43793</td>\n",
       "      <td>106907</td>\n",
       "      <td>2019-03-29 14:53:00</td>\n",
       "      <td>0</td>\n",
       "      <td>none</td>\n",
       "    </tr>\n",
       "    <tr>\n",
       "      <th>2336</th>\n",
       "      <td>transfer</td>\n",
       "      <td>9532</td>\n",
       "      <td>43793</td>\n",
       "      <td>106907</td>\n",
       "      <td>2019-04-13 13:19:00</td>\n",
       "      <td>0</td>\n",
       "      <td>none</td>\n",
       "    </tr>\n",
       "    <tr>\n",
       "      <th>2337</th>\n",
       "      <td>transfer</td>\n",
       "      <td>27332</td>\n",
       "      <td>43793</td>\n",
       "      <td>106907</td>\n",
       "      <td>2019-05-10 09:34:00</td>\n",
       "      <td>0</td>\n",
       "      <td>none</td>\n",
       "    </tr>\n",
       "    <tr>\n",
       "      <th>2338</th>\n",
       "      <td>transfer</td>\n",
       "      <td>32685</td>\n",
       "      <td>43793</td>\n",
       "      <td>106907</td>\n",
       "      <td>2019-07-08 12:20:00</td>\n",
       "      <td>0</td>\n",
       "      <td>none</td>\n",
       "    </tr>\n",
       "    <tr>\n",
       "      <th>2339</th>\n",
       "      <td>transfer</td>\n",
       "      <td>26390</td>\n",
       "      <td>43793</td>\n",
       "      <td>106907</td>\n",
       "      <td>2019-03-25 13:52:00</td>\n",
       "      <td>0</td>\n",
       "      <td>none</td>\n",
       "    </tr>\n",
       "  </tbody>\n",
       "</table>\n",
       "<p>2340 rows × 7 columns</p>\n",
       "</div>"
      ],
      "text/plain": [
       "     typeofaction  sourceid  destinationid  amountofmoney  \\\n",
       "0         cash-in     30105          28942         494528   \n",
       "1         cash-in     30105           8692         494528   \n",
       "2         cash-in     30105          60094         494528   \n",
       "3         cash-in     30105          20575         494528   \n",
       "4         cash-in     30105          45938         494528   \n",
       "...           ...       ...            ...            ...   \n",
       "2335     transfer     14945          43793         106907   \n",
       "2336     transfer      9532          43793         106907   \n",
       "2337     transfer     27332          43793         106907   \n",
       "2338     transfer     32685          43793         106907   \n",
       "2339     transfer     26390          43793         106907   \n",
       "\n",
       "                     date  isfraud typeoffraud  \n",
       "0     2019-07-19 14:40:00        1       type1  \n",
       "1     2019-05-17 14:57:00        1       type1  \n",
       "2     2019-07-20 13:20:00        1       type1  \n",
       "3     2019-07-03 14:15:00        1       type1  \n",
       "4     2019-05-26 10:40:00        1       type1  \n",
       "...                   ...      ...         ...  \n",
       "2335  2019-03-29 14:53:00        0        none  \n",
       "2336  2019-04-13 13:19:00        0        none  \n",
       "2337  2019-05-10 09:34:00        0        none  \n",
       "2338  2019-07-08 12:20:00        0        none  \n",
       "2339  2019-03-25 13:52:00        0        none  \n",
       "\n",
       "[2340 rows x 7 columns]"
      ]
     },
     "execution_count": 2,
     "metadata": {},
     "output_type": "execute_result"
    }
   ],
   "source": [
    "data = pd.read_csv('C:\\\\Users\\\\user\\\\Desktop\\\\internship\\\\task 1\\\\banktransaction.csv')\n",
    "data"
   ]
  },
  {
   "cell_type": "code",
   "execution_count": 3,
   "id": "3bd799af",
   "metadata": {
    "scrolled": true
   },
   "outputs": [
    {
     "data": {
      "text/html": [
       "<div>\n",
       "<style scoped>\n",
       "    .dataframe tbody tr th:only-of-type {\n",
       "        vertical-align: middle;\n",
       "    }\n",
       "\n",
       "    .dataframe tbody tr th {\n",
       "        vertical-align: top;\n",
       "    }\n",
       "\n",
       "    .dataframe thead th {\n",
       "        text-align: right;\n",
       "    }\n",
       "</style>\n",
       "<table border=\"1\" class=\"dataframe\">\n",
       "  <thead>\n",
       "    <tr style=\"text-align: right;\">\n",
       "      <th></th>\n",
       "      <th>typeofaction</th>\n",
       "      <th>sourceid</th>\n",
       "      <th>destinationid</th>\n",
       "      <th>amountofmoney</th>\n",
       "      <th>isfraud</th>\n",
       "    </tr>\n",
       "  </thead>\n",
       "  <tbody>\n",
       "    <tr>\n",
       "      <th>0</th>\n",
       "      <td>cash-in</td>\n",
       "      <td>30105</td>\n",
       "      <td>28942</td>\n",
       "      <td>494528</td>\n",
       "      <td>1</td>\n",
       "    </tr>\n",
       "    <tr>\n",
       "      <th>1</th>\n",
       "      <td>cash-in</td>\n",
       "      <td>30105</td>\n",
       "      <td>8692</td>\n",
       "      <td>494528</td>\n",
       "      <td>1</td>\n",
       "    </tr>\n",
       "    <tr>\n",
       "      <th>2</th>\n",
       "      <td>cash-in</td>\n",
       "      <td>30105</td>\n",
       "      <td>60094</td>\n",
       "      <td>494528</td>\n",
       "      <td>1</td>\n",
       "    </tr>\n",
       "    <tr>\n",
       "      <th>3</th>\n",
       "      <td>cash-in</td>\n",
       "      <td>30105</td>\n",
       "      <td>20575</td>\n",
       "      <td>494528</td>\n",
       "      <td>1</td>\n",
       "    </tr>\n",
       "    <tr>\n",
       "      <th>4</th>\n",
       "      <td>cash-in</td>\n",
       "      <td>30105</td>\n",
       "      <td>45938</td>\n",
       "      <td>494528</td>\n",
       "      <td>1</td>\n",
       "    </tr>\n",
       "    <tr>\n",
       "      <th>...</th>\n",
       "      <td>...</td>\n",
       "      <td>...</td>\n",
       "      <td>...</td>\n",
       "      <td>...</td>\n",
       "      <td>...</td>\n",
       "    </tr>\n",
       "    <tr>\n",
       "      <th>2335</th>\n",
       "      <td>transfer</td>\n",
       "      <td>14945</td>\n",
       "      <td>43793</td>\n",
       "      <td>106907</td>\n",
       "      <td>0</td>\n",
       "    </tr>\n",
       "    <tr>\n",
       "      <th>2336</th>\n",
       "      <td>transfer</td>\n",
       "      <td>9532</td>\n",
       "      <td>43793</td>\n",
       "      <td>106907</td>\n",
       "      <td>0</td>\n",
       "    </tr>\n",
       "    <tr>\n",
       "      <th>2337</th>\n",
       "      <td>transfer</td>\n",
       "      <td>27332</td>\n",
       "      <td>43793</td>\n",
       "      <td>106907</td>\n",
       "      <td>0</td>\n",
       "    </tr>\n",
       "    <tr>\n",
       "      <th>2338</th>\n",
       "      <td>transfer</td>\n",
       "      <td>32685</td>\n",
       "      <td>43793</td>\n",
       "      <td>106907</td>\n",
       "      <td>0</td>\n",
       "    </tr>\n",
       "    <tr>\n",
       "      <th>2339</th>\n",
       "      <td>transfer</td>\n",
       "      <td>26390</td>\n",
       "      <td>43793</td>\n",
       "      <td>106907</td>\n",
       "      <td>0</td>\n",
       "    </tr>\n",
       "  </tbody>\n",
       "</table>\n",
       "<p>2340 rows × 5 columns</p>\n",
       "</div>"
      ],
      "text/plain": [
       "     typeofaction  sourceid  destinationid  amountofmoney  isfraud\n",
       "0         cash-in     30105          28942         494528        1\n",
       "1         cash-in     30105           8692         494528        1\n",
       "2         cash-in     30105          60094         494528        1\n",
       "3         cash-in     30105          20575         494528        1\n",
       "4         cash-in     30105          45938         494528        1\n",
       "...           ...       ...            ...            ...      ...\n",
       "2335     transfer     14945          43793         106907        0\n",
       "2336     transfer      9532          43793         106907        0\n",
       "2337     transfer     27332          43793         106907        0\n",
       "2338     transfer     32685          43793         106907        0\n",
       "2339     transfer     26390          43793         106907        0\n",
       "\n",
       "[2340 rows x 5 columns]"
      ]
     },
     "execution_count": 3,
     "metadata": {},
     "output_type": "execute_result"
    }
   ],
   "source": [
    "data.dropna(inplace=True)  # Remove rows with missing values\n",
    "cols_to_drop = ['date', 'typeoffraud']\n",
    "data.drop(columns=cols_to_drop, inplace=True)\n",
    "data"
   ]
  },
  {
   "cell_type": "code",
   "execution_count": 4,
   "id": "401bdc39",
   "metadata": {},
   "outputs": [
    {
     "name": "stdout",
     "output_type": "stream",
     "text": [
      "<class 'pandas.core.frame.DataFrame'>\n",
      "RangeIndex: 2340 entries, 0 to 2339\n",
      "Data columns (total 5 columns):\n",
      " #   Column         Non-Null Count  Dtype \n",
      "---  ------         --------------  ----- \n",
      " 0   typeofaction   2340 non-null   object\n",
      " 1   sourceid       2340 non-null   int64 \n",
      " 2   destinationid  2340 non-null   int64 \n",
      " 3   amountofmoney  2340 non-null   int64 \n",
      " 4   isfraud        2340 non-null   int64 \n",
      "dtypes: int64(4), object(1)\n",
      "memory usage: 91.5+ KB\n"
     ]
    },
    {
     "data": {
      "text/html": [
       "<div>\n",
       "<style scoped>\n",
       "    .dataframe tbody tr th:only-of-type {\n",
       "        vertical-align: middle;\n",
       "    }\n",
       "\n",
       "    .dataframe tbody tr th {\n",
       "        vertical-align: top;\n",
       "    }\n",
       "\n",
       "    .dataframe thead th {\n",
       "        text-align: right;\n",
       "    }\n",
       "</style>\n",
       "<table border=\"1\" class=\"dataframe\">\n",
       "  <thead>\n",
       "    <tr style=\"text-align: right;\">\n",
       "      <th></th>\n",
       "      <th>sourceid</th>\n",
       "      <th>destinationid</th>\n",
       "      <th>amountofmoney</th>\n",
       "      <th>isfraud</th>\n",
       "    </tr>\n",
       "  </thead>\n",
       "  <tbody>\n",
       "    <tr>\n",
       "      <th>count</th>\n",
       "      <td>2340.000000</td>\n",
       "      <td>2340.000000</td>\n",
       "      <td>2.340000e+03</td>\n",
       "      <td>2340.000000</td>\n",
       "    </tr>\n",
       "    <tr>\n",
       "      <th>mean</th>\n",
       "      <td>49111.255128</td>\n",
       "      <td>52257.918803</td>\n",
       "      <td>2.508583e+06</td>\n",
       "      <td>0.597863</td>\n",
       "    </tr>\n",
       "    <tr>\n",
       "      <th>std</th>\n",
       "      <td>29614.440603</td>\n",
       "      <td>28988.847246</td>\n",
       "      <td>2.560434e+06</td>\n",
       "      <td>0.490434</td>\n",
       "    </tr>\n",
       "    <tr>\n",
       "      <th>min</th>\n",
       "      <td>61.000000</td>\n",
       "      <td>53.000000</td>\n",
       "      <td>1.333200e+04</td>\n",
       "      <td>0.000000</td>\n",
       "    </tr>\n",
       "    <tr>\n",
       "      <th>25%</th>\n",
       "      <td>24033.000000</td>\n",
       "      <td>28046.000000</td>\n",
       "      <td>3.359140e+05</td>\n",
       "      <td>0.000000</td>\n",
       "    </tr>\n",
       "    <tr>\n",
       "      <th>50%</th>\n",
       "      <td>46632.500000</td>\n",
       "      <td>52748.500000</td>\n",
       "      <td>1.162354e+06</td>\n",
       "      <td>1.000000</td>\n",
       "    </tr>\n",
       "    <tr>\n",
       "      <th>75%</th>\n",
       "      <td>75107.000000</td>\n",
       "      <td>78030.000000</td>\n",
       "      <td>4.686559e+06</td>\n",
       "      <td>1.000000</td>\n",
       "    </tr>\n",
       "    <tr>\n",
       "      <th>max</th>\n",
       "      <td>100000.000000</td>\n",
       "      <td>99950.000000</td>\n",
       "      <td>7.952497e+06</td>\n",
       "      <td>1.000000</td>\n",
       "    </tr>\n",
       "  </tbody>\n",
       "</table>\n",
       "</div>"
      ],
      "text/plain": [
       "            sourceid  destinationid  amountofmoney      isfraud\n",
       "count    2340.000000    2340.000000   2.340000e+03  2340.000000\n",
       "mean    49111.255128   52257.918803   2.508583e+06     0.597863\n",
       "std     29614.440603   28988.847246   2.560434e+06     0.490434\n",
       "min        61.000000      53.000000   1.333200e+04     0.000000\n",
       "25%     24033.000000   28046.000000   3.359140e+05     0.000000\n",
       "50%     46632.500000   52748.500000   1.162354e+06     1.000000\n",
       "75%     75107.000000   78030.000000   4.686559e+06     1.000000\n",
       "max    100000.000000   99950.000000   7.952497e+06     1.000000"
      ]
     },
     "execution_count": 4,
     "metadata": {},
     "output_type": "execute_result"
    }
   ],
   "source": [
    "#understanding the data\n",
    "data.info()\n",
    "data.describe()"
   ]
  },
  {
   "cell_type": "code",
   "execution_count": 5,
   "id": "a0090759",
   "metadata": {},
   "outputs": [
    {
     "name": "stdout",
     "output_type": "stream",
     "text": [
      "[0 1]\n"
     ]
    }
   ],
   "source": [
    "from sklearn.preprocessing import LabelEncoder\n",
    "\n",
    "# Create a LabelEncoder object\n",
    "le = LabelEncoder()\n",
    "\n",
    "# Define the categories to be encoded\n",
    "categories = [\"cashin\", \"transfer\"]\n",
    "\n",
    "# Fit the encoder to the categories and transform them to numerical values\n",
    "encoded_categories = le.fit_transform(categories)\n",
    "\n",
    "# Print the encoded categories\n",
    "print(encoded_categories)"
   ]
  },
  {
   "cell_type": "code",
   "execution_count": 6,
   "id": "279d4e77",
   "metadata": {},
   "outputs": [
    {
     "data": {
      "image/png": "[encoded data removed]",
      "text/plain": [
       "<Figure size 640x480 with 1 Axes>"
      ]
     },
     "metadata": {},
     "output_type": "display_data"
    }
   ],
   "source": [
    "data.plot(kind='hist')\n",
    "plt.show()"
   ]
  },
  {
   "cell_type": "code",
   "execution_count": 7,
   "id": "0558519a",
   "metadata": {},
   "outputs": [],
   "source": [
    "#Data Preparation\n",
    "#data separation as X and y\n",
    "X = data.drop(data.columns[-2], axis=1)\n",
    "y = data['isfraud']"
   ]
  },
  {
   "cell_type": "code",
   "execution_count": 8,
   "id": "36a4b4ba",
   "metadata": {},
   "outputs": [],
   "source": [
    "from sklearn.model_selection import train_test_split\n",
    "from sklearn.linear_model import LinearRegression"
   ]
  },
  {
   "cell_type": "code",
   "execution_count": 9,
   "id": "eb591d67",
   "metadata": {},
   "outputs": [],
   "source": [
    "X_train, X_test, y_train, y_test = train_test_split(X, y, test_size=0.2)"
   ]
  },
  {
   "cell_type": "code",
   "execution_count": 10,
   "id": "8b45425c",
   "metadata": {},
   "outputs": [],
   "source": [
    "from sklearn.preprocessing import OneHotEncoder\n",
    "encoder = OneHotEncoder()\n",
    "X_train_encoded = encoder.fit_transform(X_train[[\"typeofaction\"]])  # Replace 'categorical_feature' with your feature name\n",
    "X_test_encoded = encoder.transform(X_test[[\"typeofaction\"]])  # Replace 'categorical_feature' with your feature name"
   ]
  },
  {
   "cell_type": "code",
   "execution_count": 11,
   "id": "5eee5641",
   "metadata": {},
   "outputs": [],
   "source": [
    "from sklearn.preprocessing import LabelEncoder\n",
    "\n",
    "# Instantiate the LabelEncoder\n",
    "encoder = LabelEncoder()\n",
    "\n",
    "# Encode 'typeofaction' for the training data\n",
    "X_train['typeofaction'] = encoder.fit_transform(X_train['typeofaction'])\n",
    "\n",
    "# Encode 'typeofaction' for the testing data using the same encoder\n",
    "X_test['typeofaction'] = encoder.transform(X_test['typeofaction'])"
   ]
  },
  {
   "cell_type": "code",
   "execution_count": 12,
   "id": "d4ae1791",
   "metadata": {},
   "outputs": [
    {
     "name": "stdout",
     "output_type": "stream",
     "text": [
      "Fitting classifier Nearest Neighbors (k=10)\n",
      "Predicting labels for classifier Nearest Neighbors (k=10)\n",
      "Fitting classifier Decision Tree (Max Depth=10)\n",
      "Predicting labels for classifier Decision Tree (Max Depth=10)\n",
      "Fitting classifier Random Forest (Max Depth=5)\n",
      "Predicting labels for classifier Random Forest (Max Depth=5)\n",
      "Fitting classifier Logistic Regression\n",
      "Predicting labels for classifier Logistic Regression\n",
      "Fitting classifier Gaussian Naive Bayes\n",
      "Predicting labels for classifier Gaussian Naive Bayes\n",
      "Fitting classifier MLP (ReLU)\n"
     ]
    },
    {
     "name": "stderr",
     "output_type": "stream",
     "text": [
      "C:\\ProgramData\\Anaconda3\\lib\\site-packages\\sklearn\\metrics\\_classification.py:1318: UndefinedMetricWarning: Precision and F-score are ill-defined and being set to 0.0 in labels with no predicted samples. Use `zero_division` parameter to control this behavior.\n",
      "  _warn_prf(average, modifier, msg_start, len(result))\n"
     ]
    },
    {
     "name": "stdout",
     "output_type": "stream",
     "text": [
      "Predicting labels for classifier MLP (ReLU)\n",
      "Micro-Averaged Scores:\n",
      "{'Nearest Neighbors (k=10)': (0.561965811965812, 0.561965811965812, 0.561965811965812, None), 'Decision Tree (Max Depth=10)': (1.0, 1.0, 1.0, None), 'Random Forest (Max Depth=5)': (1.0, 1.0, 1.0, None), 'Logistic Regression': (0.6004273504273504, 0.6004273504273504, 0.6004273504273504, None), 'Gaussian Naive Bayes': (0.8995726495726496, 0.8995726495726496, 0.8995726495726496, None), 'MLP (ReLU)': (0.5491452991452992, 0.5491452991452992, 0.5491452991452992, None)}\n",
      "Macro-Averaged Scores:\n",
      "{'Nearest Neighbors (k=10)': (0.5305213191205862, 0.5278988334253145, 0.5259483256992928, None), 'Decision Tree (Max Depth=10)': (1.0, 1.0, 1.0, None), 'Random Forest (Max Depth=5)': (1.0, 1.0, 1.0, None), 'Logistic Regression': (0.3002136752136752, 0.5, 0.3751668891855807, None), 'Gaussian Naive Bayes': (0.9283536585365854, 0.874331550802139, 0.889546707642247, None), 'MLP (ReLU)': (0.47962962962962963, 0.4868118065731631, 0.45904252696624903, None)}\n",
      "MCC Scores:\n",
      "{'Nearest Neighbors (k=10)': 0.058361261057866196, 'Decision Tree (Max Depth=10)': 1.0, 'Random Forest (Max Depth=5)': 1.0, 'Logistic Regression': 0.0, 'Gaussian Naive Bayes': 0.8008652553127023, 'MLP (ReLU)': -0.03278099355545845}\n"
     ]
    }
   ],
   "source": [
    "# Define a list of classifiers\n",
    "classifiers = [\n",
    "    KNeighborsClassifier(n_neighbors=10),\n",
    "    DecisionTreeClassifier(max_depth=10),\n",
    "    RandomForestClassifier(n_estimators=1000, max_depth=5),\n",
    "    LogisticRegression(max_iter=100000),\n",
    "    GaussianNB(),\n",
    "    MLPClassifier(hidden_layer_sizes=(100, 100, 100), max_iter=10000, activation='relu')\n",
    "]\n",
    "\n",
    "clf_names = [\n",
    "    \"Nearest Neighbors (k=10)\",\n",
    "    \"Decision Tree (Max Depth=10)\",\n",
    "    \"Random Forest (Max Depth=5)\",\n",
    "    \"Logistic Regression\",\n",
    "    \"Gaussian Naive Bayes\",\n",
    "    \"MLP (ReLU)\"\n",
    "]\n",
    "\n",
    "scores_micro = {}\n",
    "scores_macro = {}\n",
    "scores_mcc = {}\n",
    "\n",
    "# Define a function for classifier evaluation\n",
    "def evaluate_classifier(name, clf, X_train, y_train, X_test, y_test):\n",
    "    print(\"Fitting classifier\", name)\n",
    "    clf.fit(X_train, y_train)\n",
    "    print(\"Predicting labels for classifier\", name)\n",
    "    y_pred = clf.predict(X_test)\n",
    "    \n",
    "    scores_micro[name] = precision_recall_fscore_support(y_test, y_pred, average=\"micro\")\n",
    "    scores_macro[name] = precision_recall_fscore_support(y_test, y_pred, average=\"macro\")\n",
    "    scores_mcc[name] = matthews_corrcoef(y_test, y_pred)\n",
    "\n",
    "# Loop through classifiers and evaluate them\n",
    "for name, clf in zip(clf_names, classifiers):\n",
    "    evaluate_classifier(name, clf, X_train, y_train, X_test, y_test)\n",
    "\n",
    "# Print the evaluation results or use them as needed\n",
    "print(\"Micro-Averaged Scores:\")\n",
    "print(scores_micro)\n",
    "\n",
    "print(\"Macro-Averaged Scores:\")\n",
    "print(scores_macro)\n",
    "\n",
    "print(\"MCC Scores:\")\n",
    "print(scores_mcc)"
   ]
  },
  {
   "cell_type": "code",
   "execution_count": 13,
   "id": "62cb473c",
   "metadata": {},
   "outputs": [
    {
     "data": {
      "text/plain": [
       "RandomForestClassifier(random_state=42)"
      ]
     },
     "execution_count": 13,
     "metadata": {},
     "output_type": "execute_result"
    }
   ],
   "source": [
    "#Create and train the random forest model:\n",
    "model = RandomForestClassifier(n_estimators=100, random_state=42)\n",
    "model.fit(X_train, y_train)"
   ]
  },
  {
   "cell_type": "code",
   "execution_count": 14,
   "id": "9fc5716a",
   "metadata": {},
   "outputs": [
    {
     "name": "stdout",
     "output_type": "stream",
     "text": [
      "Accuracy: 1.0\n",
      "\n",
      "Confusion Matrix:\n",
      " [[187   0]\n",
      " [  0 281]]\n",
      "\n",
      "Classification Report:\n",
      "               precision    recall  f1-score   support\n",
      "\n",
      "           0       1.00      1.00      1.00       187\n",
      "           1       1.00      1.00      1.00       281\n",
      "\n",
      "    accuracy                           1.00       468\n",
      "   macro avg       1.00      1.00      1.00       468\n",
      "weighted avg       1.00      1.00      1.00       468\n",
      "\n"
     ]
    }
   ],
   "source": [
    "#Make predictions and evaluate the model:\n",
    "y_pred = model.predict(X_test)\n",
    "\n",
    "print(\"Accuracy:\", accuracy_score(y_test, y_pred))\n",
    "print(\"\\nConfusion Matrix:\\n\", confusion_matrix(y_test, y_pred))\n",
    "print(\"\\nClassification Report:\\n\", classification_report(y_test, y_pred))"
   ]
  },
  {
   "cell_type": "markdown",
   "id": "f0830c0d",
   "metadata": {},
   "source": [
    "1.00 accuracy in the classification report indicates that the model has predicted all the test data correctly. the precision, recall, and F1-score for both classes are 1.00, which means the model has performed perfectly in terms of these metrics. This is a strong indication that the model has a high level of accuracy and can be trusted to make reliable predictions"
   ]
  },
  {
   "cell_type": "code",
   "execution_count": 15,
   "id": "f5a9dfe8",
   "metadata": {},
   "outputs": [],
   "source": [
    "# Assuming y_test is your actual test data and y_pred is your predicted test data\n",
    "cm = confusion_matrix(y_test, y_pred)"
   ]
  },
  {
   "cell_type": "code",
   "execution_count": 16,
   "id": "831202a2",
   "metadata": {},
   "outputs": [
    {
     "data": {
      "image/png": "[encoded data removed]",
      "text/plain": [
       "<Figure size 640x480 with 2 Axes>"
      ]
     },
     "metadata": {},
     "output_type": "display_data"
    }
   ],
   "source": [
    "# Create a heatmap of the confusion matrix\n",
    "sns.heatmap(cm, annot=True, fmt='d')\n",
    "\n",
    "# Display the plot\n",
    "plt.show()"
   ]
  },
  {
   "cell_type": "code",
   "execution_count": 17,
   "id": "465105c3",
   "metadata": {},
   "outputs": [
    {
     "data": {
      "text/plain": [
       "['internship.pkl']"
      ]
     },
     "execution_count": 17,
     "metadata": {},
     "output_type": "execute_result"
    }
   ],
   "source": [
    "import joblib\n",
    "\n",
    "# Save the model to a file\n",
    "joblib.dump(model, 'internship.pkl')\n"
   ]
  },
  {
   "cell_type": "markdown",
   "id": "af480899",
   "metadata": {},
   "source": [
    "## Integrate the trained model in any web application"
   ]
  },
  {
   "cell_type": "code",
   "execution_count": 23,
   "id": "ce8dc22e",
   "metadata": {},
   "outputs": [],
   "source": [
    "from flask import Flask, request, jsonify\n",
    "import joblib\n",
    "\n",
    "app = Flask(__name__)\n",
    "\n",
    "# Load the saved model from the file\n",
    "model = joblib.load('internship.pkl')"
   ]
  },
  {
   "cell_type": "code",
   "execution_count": 24,
   "id": "4695255b",
   "metadata": {},
   "outputs": [],
   "source": [
    "#create a route to handle predictions\n",
    "@app.route('/predict', methods=['POST'])\n",
    "def predict():\n",
    "    # Get the input data from the request\n",
    "    data = request.get_json(force=True)\n",
    "\n",
    "    # Make predictions using the model and the input data\n",
    "    predictions = model.predict(data)\n",
    "\n",
    "    # Return the predictions as a JSON response\n",
    "    return jsonify({'predictions': predictions.tolist()})"
   ]
  },
  {
   "cell_type": "code",
   "execution_count": 25,
   "id": "da65147c",
   "metadata": {},
   "outputs": [],
   "source": [
    "import os\n",
    "os.environ['FLASK_ENV'] = 'development'"
   ]
  },
  {
   "cell_type": "code",
   "execution_count": 26,
   "id": "c867fcf2",
   "metadata": {},
   "outputs": [
    {
     "name": "stdout",
     "output_type": "stream",
     "text": [
      " * Serving Flask app \"__main__\" (lazy loading)\n",
      " * Environment: development\n",
      " * Debug mode: on\n"
     ]
    },
    {
     "name": "stderr",
     "output_type": "stream",
     "text": [
      " * Restarting with watchdog (windowsapi)\n"
     ]
    },
    {
     "ename": "SystemExit",
     "evalue": "1",
     "output_type": "error",
     "traceback": [
      "An exception has occurred, use %tb to see the full traceback.\n",
      "\u001b[1;31mSystemExit\u001b[0m\u001b[1;31m:\u001b[0m 1\n"
     ]
    }
   ],
   "source": [
    "if __name__ == '__main__':\n",
    "    app.run(debug=True)"
   ]
  },
  {
   "cell_type": "code",
   "execution_count": null,
   "id": "c15e0394",
   "metadata": {},
   "outputs": [],
   "source": []
  }
 ],
 "metadata": {
  "kernelspec": {
   "display_name": "Python 3 (ipykernel)",
   "language": "python",
   "name": "python3"
  },
  "language_info": {
   "codemirror_mode": {
    "name": "ipython",
    "version": 3
   },
   "file_extension": ".py",
   "mimetype": "text/x-python",
   "name": "python",
   "nbconvert_exporter": "python",
   "pygments_lexer": "ipython3",
   "version": "3.9.13"
  }
 },
 "nbformat": 4,
 "nbformat_minor": 5
}
